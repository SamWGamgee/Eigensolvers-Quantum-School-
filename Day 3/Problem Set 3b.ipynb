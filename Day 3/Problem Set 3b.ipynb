{
 "cells": [
  {
   "cell_type": "code",
   "execution_count": 1,
   "id": "under-manitoba",
   "metadata": {},
   "outputs": [],
   "source": [
    "import numpy as np\n",
    "\n",
    "from qiskit import QuantumCircuit, QuantumRegister, ClassicalRegister\n",
    "from qiskit import Aer, execute\n",
    "#from qiskit.tools.visualization import plot_state_city\n",
    "\n",
    "from qiskit.providers.aer import StatevectorSimulator\n",
    "\n",
    "statevector_sim = Aer.get_backend('statevector_simulator')"
   ]
  },
  {
   "cell_type": "markdown",
   "id": "06e8661b",
   "metadata": {},
   "source": [
    "# Lecture 3 Qiskit Problems\n",
    "## Problem 1 - Bell State Circuit\n",
    "Using Qiskit, make a circuit that takes two qubits and maps the standard basis to the Bell basis:\n",
    "$$\n",
    "\\begin{aligned}\n",
    "|00\\rangle &\\mapsto \\frac{|00\\rangle+|11\\rangle}{\\sqrt2} \\\\\n",
    "|01\\rangle &\\mapsto \\frac{|00\\rangle-|11\\rangle}{\\sqrt2} \\\\\n",
    "|10\\rangle &\\mapsto \\frac{|10\\rangle+|01\\rangle}{\\sqrt2} \\\\\n",
    "|11\\rangle &\\mapsto \\frac{-|10\\rangle+|01\\rangle}{\\sqrt2} \n",
    "\\end{aligned}\n",
    "$$"
   ]
  },
  {
   "cell_type": "code",
   "execution_count": 4,
   "id": "c1e6e2d7",
   "metadata": {},
   "outputs": [],
   "source": [
    "qc = QuantumCircuit(2)\n",
    "\n",
    "# --------------------------------\n",
    "# Enter your code in between these\n",
    "# --------------------------------\n",
    "qc.h(0)\n",
    "qc.cx(0,1)\n",
    "# --------------------------------\n",
    "# Enter your code in between these\n",
    "# --------------------------------\n",
    "\n",
    "\n",
    "bell_circ = qc.copy()"
   ]
  },
  {
   "cell_type": "markdown",
   "id": "8d696dd8",
   "metadata": {},
   "source": [
    "**Run the next cell to verify if your circuit is correct.**"
   ]
  },
  {
   "cell_type": "code",
   "execution_count": 5,
   "id": "1f8902a4",
   "metadata": {},
   "outputs": [
    {
     "name": "stdout",
     "output_type": "stream",
     "text": [
      "Your circuit is correct, you can move forward.\n"
     ]
    }
   ],
   "source": [
    "match = []\n",
    "tolerance = 1e-4\n",
    "\n",
    "# Loop over every computational basis state\n",
    "for i in range(4):\n",
    "    circ = QuantumCircuit(2)\n",
    "    # Initialize the qubits\n",
    "    if (i%2 == 1):\n",
    "        circ.x(0)\n",
    "    if (i//2 == 1):\n",
    "        circ.x(1)\n",
    "    \n",
    "    circ.compose(bell_circ,inplace=True)\n",
    "    \n",
    "    result = execute(circ, statevector_sim).result()\n",
    "    statevector = result.get_statevector()\n",
    "    \n",
    "    # Flags for whether the output matches the desired output\n",
    "    if i==0:\n",
    "        match.append( np.linalg.norm(statevector - np.sqrt(0.5)*np.array([1,0,0,1])) < tolerance )\n",
    "    elif i==1:\n",
    "        match.append( np.linalg.norm(statevector - np.sqrt(0.5)*np.array([1,0,0,-1])) < tolerance )\n",
    "    elif i==2:\n",
    "        match.append( np.linalg.norm(statevector - np.sqrt(0.5)*np.array([0,1,1,0])) < tolerance )\n",
    "    elif i==3:\n",
    "        match.append( np.linalg.norm(statevector - np.sqrt(0.5)*np.array([0,-1,1,0])) < tolerance )\n",
    "        \n",
    "correct = True\n",
    "for m in match:\n",
    "    correct = correct and m\n",
    "\n",
    "if correct:\n",
    "    print(\"Your circuit is correct, you can move forward.\")\n",
    "else:\n",
    "    print(\"Your circuit is not correct, please check your work.\")"
   ]
  },
  {
   "cell_type": "markdown",
   "id": "9d8b3ff8",
   "metadata": {},
   "source": [
    "## Problem 2 - Quantum Teleportation\n",
    "Using Qiskit, create a quantum circuit that entangles Alice and Bob's qubits and then uses the entangled pair to teleport another one of Alice's qubit's state to Bob's qubit."
   ]
  },
  {
   "cell_type": "code",
   "execution_count": 23,
   "id": "e3f49236",
   "metadata": {},
   "outputs": [
    {
     "data": {
      "image/png": "[encoded data removed]",
      "text/plain": [
       "<Figure size 547.375x325.08 with 1 Axes>"
      ]
     },
     "metadata": {},
     "output_type": "display_data"
    }
   ],
   "source": [
    "a = QuantumRegister(1) # Alice's qubit that forms half of the entangled pair\n",
    "b = QuantumRegister(1) # Bob's qubit that forms half of the entangled pair\n",
    "c = QuantumRegister(1) # Alice's qubit that is to be teleported\n",
    "\n",
    "# Classical Registers for Alice's measurements\n",
    "m1 = ClassicalRegister(1)\n",
    "m2 = ClassicalRegister(1)\n",
    "\n",
    "qc = QuantumCircuit(a,b,c,m1,m2)\n",
    "\n",
    "# --------------------------------\n",
    "# Enter your code in between these\n",
    "# --------------------------------\n",
    "qc.h(a)\n",
    "qc.cx(a,b)\n",
    "qc.cx(c,a)\n",
    "qc.h(c)\n",
    "qc.measure(a,m1)\n",
    "qc.cx(a,b)\n",
    "qc.measure(c,m2)\n",
    "qc.cz(c,b)\n",
    "\n",
    "qc.draw('mpl')\n",
    "\n",
    "# --------------------------------\n",
    "# Enter your code in between these\n",
    "# --------------------------------\n",
    "\n",
    "telportation_circ = qc.copy()"
   ]
  },
  {
   "cell_type": "markdown",
   "id": "746e0b1f",
   "metadata": {},
   "source": [
    "**Run the next cell to verify if your circuit is correct**"
   ]
  },
  {
   "cell_type": "code",
   "execution_count": 24,
   "id": "0e540975",
   "metadata": {},
   "outputs": [
    {
     "name": "stdout",
     "output_type": "stream",
     "text": [
      "Your circuit is correct, you can move forward.\n"
     ]
    }
   ],
   "source": [
    "circ = QuantumCircuit(a,b,c,m1,m2)\n",
    "\n",
    "# Generate a random vector\n",
    "random_state = np.random.rand(2)\n",
    "# Normalize the vector\n",
    "random_state = random_state / np.linalg.norm(random_state)\n",
    "\n",
    "# Initialize qubit c to this random vector\n",
    "circ.initialize(random_state,c)\n",
    "# Teleport the qubit to Bob\n",
    "circ.compose(telportation_circ,inplace=True)\n",
    "\n",
    "result = execute(circ, statevector_sim).result()\n",
    "final_state = result.get_statevector()\n",
    "\n",
    "correct = False\n",
    "\n",
    "# Loop to check all possible post measurement states:\n",
    "for i in [0,1,4,5]:\n",
    "    sub_array = np.array([final_state[i],final_state[i+2]])\n",
    "    if np.linalg.norm(sub_array) != 0:\n",
    "        if np.linalg.norm(random_state - sub_array) < tolerance:\n",
    "            correct = True\n",
    "            break\n",
    "\n",
    "if correct:\n",
    "    print(\"Your circuit is correct, you can move forward.\")\n",
    "else:\n",
    "    print(\"Your circuit is not correct, please check your work.\")"
   ]
  },
  {
   "cell_type": "code",
   "execution_count": null,
   "id": "5a37ff1e-440c-4a35-9dad-28537a7f6ad3",
   "metadata": {},
   "outputs": [],
   "source": []
  }
 ],
 "metadata": {
  "kernelspec": {
   "display_name": "Python 3 (ipykernel)",
   "language": "python",
   "name": "python3"
  },
  "language_info": {
   "codemirror_mode": {
    "name": "ipython",
    "version": 3
   },
   "file_extension": ".py",
   "mimetype": "text/x-python",
   "name": "python",
   "nbconvert_exporter": "python",
   "pygments_lexer": "ipython3",
   "version": "3.9.5"
  }
 },
 "nbformat": 4,
 "nbformat_minor": 5
}
